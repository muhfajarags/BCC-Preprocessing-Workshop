{
  "cells": [
    {
      "cell_type": "markdown",
      "metadata": {
        "id": "nupX4Vy47kW2"
      },
      "source": [
        "# **Pre Processing**"
      ]
    },
    {
      "cell_type": "markdown",
      "metadata": {
        "id": "ENwkZ08o7kW5"
      },
      "source": [
        "Toolkit : https://medium.com/@muhfajarags/data-preprocessing-guide-for-beginner-bf49caa30c3b#bc05"
      ]
    },
    {
      "cell_type": "code",
      "execution_count": 1,
      "metadata": {
        "execution": {
          "iopub.execute_input": "2024-03-04T00:34:13.662875Z",
          "iopub.status.busy": "2024-03-04T00:34:13.662500Z",
          "iopub.status.idle": "2024-03-04T00:34:17.021201Z",
          "shell.execute_reply": "2024-03-04T00:34:17.020253Z",
          "shell.execute_reply.started": "2024-03-04T00:34:13.662843Z"
        },
        "id": "HYvdCQ-c7kW6",
        "trusted": true
      },
      "outputs": [],
      "source": [
        "import numpy as np\n",
        "import pandas as pd\n",
        "import matplotlib.pyplot as plt\n",
        "import seaborn as sns\n",
        "from sklearn.preprocessing import LabelEncoder , StandardScaler\n",
        "from sklearn.impute import SimpleImputer\n",
        "from sklearn.model_selection import train_test_split\n",
        "from sklearn.ensemble import RandomForestClassifier\n",
        "from imblearn.over_sampling import RandomOverSampler"
      ]
    },
    {
      "cell_type": "code",
      "execution_count": 2,
      "metadata": {
        "execution": {
          "iopub.execute_input": "2024-03-04T00:34:17.024739Z",
          "iopub.status.busy": "2024-03-04T00:34:17.024049Z",
          "iopub.status.idle": "2024-03-04T00:34:17.108675Z",
          "shell.execute_reply": "2024-03-04T00:34:17.107302Z",
          "shell.execute_reply.started": "2024-03-04T00:34:17.024695Z"
        },
        "id": "R2Hv3qcs7kW7",
        "trusted": true
      },
      "outputs": [],
      "source": [
        "train_df = pd.read_csv('https://raw.github.com/muhfajarags/BCC-Preprocessing-Workshop/main/train.csv')\n",
        "train_df = train_df.drop(['PassengerId'] , axis = 1)"
      ]
    },
    {
      "cell_type": "code",
      "execution_count": 3,
      "metadata": {
        "colab": {
          "base_uri": "https://localhost:8080/"
        },
        "execution": {
          "iopub.execute_input": "2023-09-21T08:58:56.967838Z",
          "iopub.status.busy": "2023-09-21T08:58:56.96694Z",
          "iopub.status.idle": "2023-09-21T08:58:56.988641Z",
          "shell.execute_reply": "2023-09-21T08:58:56.987436Z",
          "shell.execute_reply.started": "2023-09-21T08:58:56.967805Z"
        },
        "id": "zE__RTnd7kW8",
        "outputId": "b4fb5dc4-854a-4a45-c177-966efe41d0b3",
        "trusted": true
      },
      "outputs": [
        {
          "data": {
            "text/html": [
              "<div>\n",
              "<style scoped>\n",
              "    .dataframe tbody tr th:only-of-type {\n",
              "        vertical-align: middle;\n",
              "    }\n",
              "\n",
              "    .dataframe tbody tr th {\n",
              "        vertical-align: top;\n",
              "    }\n",
              "\n",
              "    .dataframe thead th {\n",
              "        text-align: right;\n",
              "    }\n",
              "</style>\n",
              "<table border=\"1\" class=\"dataframe\">\n",
              "  <thead>\n",
              "    <tr style=\"text-align: right;\">\n",
              "      <th></th>\n",
              "      <th>Survived</th>\n",
              "      <th>Pclass</th>\n",
              "      <th>Name</th>\n",
              "      <th>Sex</th>\n",
              "      <th>Age</th>\n",
              "      <th>SibSp</th>\n",
              "      <th>Parch</th>\n",
              "      <th>Ticket</th>\n",
              "      <th>Fare</th>\n",
              "      <th>Cabin</th>\n",
              "      <th>Embarked</th>\n",
              "    </tr>\n",
              "  </thead>\n",
              "  <tbody>\n",
              "    <tr>\n",
              "      <th>0</th>\n",
              "      <td>0</td>\n",
              "      <td>3</td>\n",
              "      <td>Braund, Mr. Owen Harris</td>\n",
              "      <td>male</td>\n",
              "      <td>22.0</td>\n",
              "      <td>1</td>\n",
              "      <td>0</td>\n",
              "      <td>A/5 21171</td>\n",
              "      <td>7.2500</td>\n",
              "      <td>NaN</td>\n",
              "      <td>S</td>\n",
              "    </tr>\n",
              "    <tr>\n",
              "      <th>1</th>\n",
              "      <td>1</td>\n",
              "      <td>1</td>\n",
              "      <td>Cumings, Mrs. John Bradley (Florence Briggs Th...</td>\n",
              "      <td>female</td>\n",
              "      <td>38.0</td>\n",
              "      <td>1</td>\n",
              "      <td>0</td>\n",
              "      <td>PC 17599</td>\n",
              "      <td>71.2833</td>\n",
              "      <td>C85</td>\n",
              "      <td>C</td>\n",
              "    </tr>\n",
              "    <tr>\n",
              "      <th>2</th>\n",
              "      <td>1</td>\n",
              "      <td>3</td>\n",
              "      <td>Heikkinen, Miss. Laina</td>\n",
              "      <td>female</td>\n",
              "      <td>26.0</td>\n",
              "      <td>0</td>\n",
              "      <td>0</td>\n",
              "      <td>STON/O2. 3101282</td>\n",
              "      <td>7.9250</td>\n",
              "      <td>NaN</td>\n",
              "      <td>S</td>\n",
              "    </tr>\n",
              "    <tr>\n",
              "      <th>3</th>\n",
              "      <td>1</td>\n",
              "      <td>1</td>\n",
              "      <td>Futrelle, Mrs. Jacques Heath (Lily May Peel)</td>\n",
              "      <td>female</td>\n",
              "      <td>35.0</td>\n",
              "      <td>1</td>\n",
              "      <td>0</td>\n",
              "      <td>113803</td>\n",
              "      <td>53.1000</td>\n",
              "      <td>C123</td>\n",
              "      <td>S</td>\n",
              "    </tr>\n",
              "    <tr>\n",
              "      <th>4</th>\n",
              "      <td>0</td>\n",
              "      <td>3</td>\n",
              "      <td>Allen, Mr. William Henry</td>\n",
              "      <td>male</td>\n",
              "      <td>35.0</td>\n",
              "      <td>0</td>\n",
              "      <td>0</td>\n",
              "      <td>373450</td>\n",
              "      <td>8.0500</td>\n",
              "      <td>NaN</td>\n",
              "      <td>S</td>\n",
              "    </tr>\n",
              "  </tbody>\n",
              "</table>\n",
              "</div>"
            ],
            "text/plain": [
              "   Survived  Pclass                                               Name  \\\n",
              "0         0       3                            Braund, Mr. Owen Harris   \n",
              "1         1       1  Cumings, Mrs. John Bradley (Florence Briggs Th...   \n",
              "2         1       3                             Heikkinen, Miss. Laina   \n",
              "3         1       1       Futrelle, Mrs. Jacques Heath (Lily May Peel)   \n",
              "4         0       3                           Allen, Mr. William Henry   \n",
              "\n",
              "      Sex   Age  SibSp  Parch            Ticket     Fare Cabin Embarked  \n",
              "0    male  22.0      1      0         A/5 21171   7.2500   NaN        S  \n",
              "1  female  38.0      1      0          PC 17599  71.2833   C85        C  \n",
              "2  female  26.0      0      0  STON/O2. 3101282   7.9250   NaN        S  \n",
              "3  female  35.0      1      0            113803  53.1000  C123        S  \n",
              "4    male  35.0      0      0            373450   8.0500   NaN        S  "
            ]
          },
          "execution_count": 3,
          "metadata": {},
          "output_type": "execute_result"
        }
      ],
      "source": [
        "train_df.head()\n"
      ]
    },
    {
      "cell_type": "markdown",
      "metadata": {
        "id": "7dkAvcDx7kW8"
      },
      "source": [
        "# **Data Information**"
      ]
    },
    {
      "cell_type": "code",
      "execution_count": 4,
      "metadata": {
        "colab": {
          "base_uri": "https://localhost:8080/"
        },
        "execution": {
          "iopub.execute_input": "2023-09-21T08:58:57.011543Z",
          "iopub.status.busy": "2023-09-21T08:58:57.011132Z",
          "iopub.status.idle": "2023-09-21T08:58:57.041369Z",
          "shell.execute_reply": "2023-09-21T08:58:57.0401Z",
          "shell.execute_reply.started": "2023-09-21T08:58:57.011509Z"
        },
        "id": "LK8yzqdT7kW8",
        "outputId": "e02d2ecb-5d72-40b2-8850-7964679ff257",
        "trusted": true
      },
      "outputs": [
        {
          "name": "stdout",
          "output_type": "stream",
          "text": [
            "<class 'pandas.core.frame.DataFrame'>\n",
            "RangeIndex: 891 entries, 0 to 890\n",
            "Data columns (total 11 columns):\n",
            " #   Column    Non-Null Count  Dtype  \n",
            "---  ------    --------------  -----  \n",
            " 0   Survived  891 non-null    int64  \n",
            " 1   Pclass    891 non-null    int64  \n",
            " 2   Name      891 non-null    object \n",
            " 3   Sex       891 non-null    object \n",
            " 4   Age       714 non-null    float64\n",
            " 5   SibSp     891 non-null    int64  \n",
            " 6   Parch     891 non-null    int64  \n",
            " 7   Ticket    891 non-null    object \n",
            " 8   Fare      891 non-null    float64\n",
            " 9   Cabin     204 non-null    object \n",
            " 10  Embarked  889 non-null    object \n",
            "dtypes: float64(2), int64(4), object(5)\n",
            "memory usage: 76.7+ KB\n"
          ]
        }
      ],
      "source": [
        "train_df.info()"
      ]
    },
    {
      "cell_type": "markdown",
      "metadata": {},
      "source": [
        "pada dataset terdapat data kategorikal dan numerikal sehingga perlu dilakukan handling kategorikal dan numerikal"
      ]
    },
    {
      "cell_type": "code",
      "execution_count": 5,
      "metadata": {
        "colab": {
          "base_uri": "https://localhost:8080/"
        },
        "execution": {
          "iopub.execute_input": "2023-09-21T08:58:57.058581Z",
          "iopub.status.busy": "2023-09-21T08:58:57.058147Z",
          "iopub.status.idle": "2023-09-21T08:58:57.072421Z",
          "shell.execute_reply": "2023-09-21T08:58:57.071284Z",
          "shell.execute_reply.started": "2023-09-21T08:58:57.058544Z"
        },
        "id": "Fhr4y12y7kW9",
        "outputId": "8e5dd454-a291-48a5-f47a-baf0b71537ad",
        "trusted": true
      },
      "outputs": [
        {
          "data": {
            "text/plain": [
              "Survived      0\n",
              "Pclass        0\n",
              "Name          0\n",
              "Sex           0\n",
              "Age         177\n",
              "SibSp         0\n",
              "Parch         0\n",
              "Ticket        0\n",
              "Fare          0\n",
              "Cabin       687\n",
              "Embarked      2\n",
              "dtype: int64"
            ]
          },
          "execution_count": 5,
          "metadata": {},
          "output_type": "execute_result"
        }
      ],
      "source": [
        "train_df.isnull().sum()"
      ]
    },
    {
      "cell_type": "markdown",
      "metadata": {
        "id": "JlBydJpL7kW-"
      },
      "source": [
        "**Kolom 'Cabin' memiliki banyak nilai hilang (sekitar 70%)** sehingga kita harus menghapusnya selama penanganan nilai hilang.\n",
        "\n",
        "**Kita dapat menggunakan imputer (simple imputer / iterative imputer)** untuk menangani nilai NaN pada kolom 'Age' dan 'Embarked'."
      ]
    },
    {
      "cell_type": "markdown",
      "metadata": {
        "id": "j26Nn3el7kW_"
      },
      "source": [
        "# Removing useless features"
      ]
    },
    {
      "cell_type": "code",
      "execution_count": 6,
      "metadata": {
        "colab": {
          "base_uri": "https://localhost:8080/"
        },
        "execution": {
          "iopub.execute_input": "2023-09-21T08:58:59.29082Z",
          "iopub.status.busy": "2023-09-21T08:58:59.290157Z",
          "iopub.status.idle": "2023-09-21T08:58:59.320588Z",
          "shell.execute_reply": "2023-09-21T08:58:59.319492Z",
          "shell.execute_reply.started": "2023-09-21T08:58:59.290787Z"
        },
        "id": "SOnInVSw7kW_",
        "outputId": "2604c6f4-78ff-4fd6-e278-515f1b9b4b3c",
        "trusted": true
      },
      "outputs": [
        {
          "data": {
            "text/html": [
              "<div>\n",
              "<style scoped>\n",
              "    .dataframe tbody tr th:only-of-type {\n",
              "        vertical-align: middle;\n",
              "    }\n",
              "\n",
              "    .dataframe tbody tr th {\n",
              "        vertical-align: top;\n",
              "    }\n",
              "\n",
              "    .dataframe thead th {\n",
              "        text-align: right;\n",
              "    }\n",
              "</style>\n",
              "<table border=\"1\" class=\"dataframe\">\n",
              "  <thead>\n",
              "    <tr style=\"text-align: right;\">\n",
              "      <th></th>\n",
              "      <th>Survived</th>\n",
              "      <th>Pclass</th>\n",
              "      <th>Sex</th>\n",
              "      <th>Age</th>\n",
              "      <th>SibSp</th>\n",
              "      <th>Parch</th>\n",
              "      <th>Fare</th>\n",
              "      <th>Cabin</th>\n",
              "      <th>Embarked</th>\n",
              "      <th>Ticket_number</th>\n",
              "      <th>Ticket_item</th>\n",
              "    </tr>\n",
              "  </thead>\n",
              "  <tbody>\n",
              "    <tr>\n",
              "      <th>0</th>\n",
              "      <td>0</td>\n",
              "      <td>3</td>\n",
              "      <td>male</td>\n",
              "      <td>22.0</td>\n",
              "      <td>1</td>\n",
              "      <td>0</td>\n",
              "      <td>7.2500</td>\n",
              "      <td>NaN</td>\n",
              "      <td>S</td>\n",
              "      <td>21171</td>\n",
              "      <td>A/5</td>\n",
              "    </tr>\n",
              "    <tr>\n",
              "      <th>1</th>\n",
              "      <td>1</td>\n",
              "      <td>1</td>\n",
              "      <td>female</td>\n",
              "      <td>38.0</td>\n",
              "      <td>1</td>\n",
              "      <td>0</td>\n",
              "      <td>71.2833</td>\n",
              "      <td>C85</td>\n",
              "      <td>C</td>\n",
              "      <td>17599</td>\n",
              "      <td>PC</td>\n",
              "    </tr>\n",
              "    <tr>\n",
              "      <th>2</th>\n",
              "      <td>1</td>\n",
              "      <td>3</td>\n",
              "      <td>female</td>\n",
              "      <td>26.0</td>\n",
              "      <td>0</td>\n",
              "      <td>0</td>\n",
              "      <td>7.9250</td>\n",
              "      <td>NaN</td>\n",
              "      <td>S</td>\n",
              "      <td>3101282</td>\n",
              "      <td>STON/O2.</td>\n",
              "    </tr>\n",
              "    <tr>\n",
              "      <th>3</th>\n",
              "      <td>1</td>\n",
              "      <td>1</td>\n",
              "      <td>female</td>\n",
              "      <td>35.0</td>\n",
              "      <td>1</td>\n",
              "      <td>0</td>\n",
              "      <td>53.1000</td>\n",
              "      <td>C123</td>\n",
              "      <td>S</td>\n",
              "      <td>113803</td>\n",
              "      <td>NONE</td>\n",
              "    </tr>\n",
              "    <tr>\n",
              "      <th>4</th>\n",
              "      <td>0</td>\n",
              "      <td>3</td>\n",
              "      <td>male</td>\n",
              "      <td>35.0</td>\n",
              "      <td>0</td>\n",
              "      <td>0</td>\n",
              "      <td>8.0500</td>\n",
              "      <td>NaN</td>\n",
              "      <td>S</td>\n",
              "      <td>373450</td>\n",
              "      <td>NONE</td>\n",
              "    </tr>\n",
              "  </tbody>\n",
              "</table>\n",
              "</div>"
            ],
            "text/plain": [
              "   Survived  Pclass     Sex   Age  SibSp  Parch     Fare Cabin Embarked  \\\n",
              "0         0       3    male  22.0      1      0   7.2500   NaN        S   \n",
              "1         1       1  female  38.0      1      0  71.2833   C85        C   \n",
              "2         1       3  female  26.0      0      0   7.9250   NaN        S   \n",
              "3         1       1  female  35.0      1      0  53.1000  C123        S   \n",
              "4         0       3    male  35.0      0      0   8.0500   NaN        S   \n",
              "\n",
              "  Ticket_number Ticket_item  \n",
              "0         21171         A/5  \n",
              "1         17599          PC  \n",
              "2       3101282    STON/O2.  \n",
              "3        113803        NONE  \n",
              "4        373450        NONE  "
            ]
          },
          "execution_count": 6,
          "metadata": {},
          "output_type": "execute_result"
        }
      ],
      "source": [
        "def preprocess(df):\n",
        "\n",
        "    def normalize_name(x):\n",
        "        return \" \".join([v.strip(\",()[].\\\"'\") for v in x.split(\" \")])\n",
        "\n",
        "    def ticket_number(x):\n",
        "        return x.split(\" \")[-1]\n",
        "\n",
        "    def ticket_item(x):\n",
        "        items = x.split(\" \")\n",
        "        if len(items) == 1:\n",
        "            return \"NONE\"\n",
        "        return \"_\".join(items[0:-1])\n",
        "\n",
        "\n",
        "    df[\"Ticket_number\"] = df[\"Ticket\"].apply(ticket_number)\n",
        "    df[\"Ticket_item\"] = df[\"Ticket\"].apply(ticket_item)\n",
        "\n",
        "    return df\n",
        "\n",
        "train_df = preprocess(train_df)\n",
        "train_df = train_df.drop(['Name' ,'Ticket'] , axis = 1)\n",
        "train_df.head()"
      ]
    },
    {
      "cell_type": "markdown",
      "metadata": {},
      "source": [
        "# Drop Duplicate"
      ]
    },
    {
      "cell_type": "code",
      "execution_count": 13,
      "metadata": {},
      "outputs": [
        {
          "name": "stdout",
          "output_type": "stream",
          "text": [
            "15\n"
          ]
        }
      ],
      "source": [
        "duplikat_semua_kolom = train_df.duplicated()\n",
        "print(duplikat_semua_kolom.sum())"
      ]
    },
    {
      "cell_type": "code",
      "execution_count": 14,
      "metadata": {},
      "outputs": [],
      "source": [
        "train_df= train_df.drop_duplicates()"
      ]
    },
    {
      "cell_type": "markdown",
      "metadata": {
        "id": "NZN4GHOU7kW_"
      },
      "source": [
        "# Missing values"
      ]
    },
    {
      "cell_type": "code",
      "execution_count": 15,
      "metadata": {
        "colab": {
          "base_uri": "https://localhost:8080/"
        },
        "id": "mS4VIHTAPHm0",
        "outputId": "0f366b55-ba04-47f5-92d4-0f5e4f32c72b"
      },
      "outputs": [
        {
          "data": {
            "text/plain": [
              "Survived           0\n",
              "Pclass             0\n",
              "Sex                0\n",
              "Age              165\n",
              "SibSp              0\n",
              "Parch              0\n",
              "Fare               0\n",
              "Cabin            673\n",
              "Embarked           2\n",
              "Ticket_number      0\n",
              "Ticket_item        0\n",
              "dtype: int64"
            ]
          },
          "execution_count": 15,
          "metadata": {},
          "output_type": "execute_result"
        }
      ],
      "source": [
        "train_df.isnull().sum()"
      ]
    },
    {
      "cell_type": "code",
      "execution_count": 8,
      "metadata": {
        "colab": {
          "base_uri": "https://localhost:8080/"
        },
        "execution": {
          "iopub.execute_input": "2023-09-21T08:58:59.346141Z",
          "iopub.status.busy": "2023-09-21T08:58:59.345185Z",
          "iopub.status.idle": "2023-09-21T08:58:59.746056Z",
          "shell.execute_reply": "2023-09-21T08:58:59.74499Z",
          "shell.execute_reply.started": "2023-09-21T08:58:59.346101Z"
        },
        "id": "n270AMY-7kW_",
        "outputId": "dd23f403-da0c-4aca-b92b-cd5ef1c93a4a",
        "trusted": true
      },
      "outputs": [
        {
          "data": {
            "image/png": "[encoded data removed]",
            "text/plain": [
              "<Figure size 1000x600 with 1 Axes>"
            ]
          },
          "metadata": {},
          "output_type": "display_data"
        }
      ],
      "source": [
        "null_count_columns = train_df.isnull().sum()\n",
        "null_counts_df = pd.DataFrame(list(null_count_columns.items()), columns=[\"Column\", \"NullCount\"])\n",
        "null_counts_df.sort_values(by=\"NullCount\", inplace=True)\n",
        "\n",
        "plt.figure(figsize=(10, 6))\n",
        "plt.barh(null_counts_df[\"Column\"], null_counts_df[\"NullCount\"])\n",
        "plt.xlabel(\"Null Counts\")\n",
        "plt.yticks(fontsize=9)\n",
        "plt.title(\"Null Counts in Dataset Columns\")\n",
        "plt.grid(axis=\"x\", linestyle=\"--\", alpha=0.7)\n",
        "plt.tight_layout()\n",
        "plt.gca().invert_yaxis()\n",
        "\n",
        "plt.show()"
      ]
    },
    {
      "cell_type": "code",
      "execution_count": null,
      "metadata": {
        "execution": {
          "iopub.execute_input": "2023-09-21T08:59:00.145284Z",
          "iopub.status.busy": "2023-09-21T08:59:00.14461Z",
          "iopub.status.idle": "2023-09-21T08:59:00.198768Z",
          "shell.execute_reply": "2023-09-21T08:59:00.197559Z",
          "shell.execute_reply.started": "2023-09-21T08:59:00.145241Z"
        },
        "id": "pCefCvwl7kXA",
        "trusted": true
      },
      "outputs": [],
      "source": [
        "# Drop 'Cabin' karena memiliki 70% missing values\n",
        "train_df = train_df.drop(['Cabin'] , axis = 1)\n",
        "\n",
        "# Menggunakan simple imputers untuk null values fitur Age, Fare, dan Embarked\n",
        "imp = SimpleImputer(strategy = 'mean')\n",
        "train_df[['Age', 'Fare']] = imp.fit_transform(train_df[['Age', 'Fare']])\n",
        "train_df[['Age', 'Fare']] = pd.DataFrame(train_df[['Age', 'Fare']] , columns = ['Age' , 'Fare'])\n",
        "\n",
        "imp = SimpleImputer(strategy = 'most_frequent')\n",
        "train_df[['Embarked']] = imp.fit_transform(train_df[['Embarked']])\n",
        "train_df[['Embarked']] = pd.DataFrame(train_df[['Embarked']] , columns = ['Embarked'])\n",
        "\n",
        "train_df.head()"
      ]
    },
    {
      "cell_type": "code",
      "execution_count": 10,
      "metadata": {
        "execution": {
          "iopub.execute_input": "2023-09-21T08:59:00.222554Z",
          "iopub.status.busy": "2023-09-21T08:59:00.222179Z",
          "iopub.status.idle": "2023-09-21T08:59:00.237608Z",
          "shell.execute_reply": "2023-09-21T08:59:00.236287Z",
          "shell.execute_reply.started": "2023-09-21T08:59:00.222515Z"
        },
        "id": "7D5E1FIS7kXA",
        "trusted": true
      },
      "outputs": [
        {
          "data": {
            "text/plain": [
              "0"
            ]
          },
          "execution_count": 10,
          "metadata": {},
          "output_type": "execute_result"
        }
      ],
      "source": [
        "train_df.isnull().sum().sum()"
      ]
    },
    {
      "cell_type": "markdown",
      "metadata": {
        "id": "XLSG5JtP7kXB"
      },
      "source": [
        "# Categorical data"
      ]
    },
    {
      "cell_type": "code",
      "execution_count": null,
      "metadata": {
        "execution": {
          "iopub.execute_input": "2023-09-21T08:59:00.270454Z",
          "iopub.status.busy": "2023-09-21T08:59:00.26979Z",
          "iopub.status.idle": "2023-09-21T08:59:00.298175Z",
          "shell.execute_reply": "2023-09-21T08:59:00.296925Z",
          "shell.execute_reply.started": "2023-09-21T08:59:00.270414Z"
        },
        "id": "H8_SIEW47kXB",
        "trusted": true
      },
      "outputs": [],
      "source": [
        "# split nominal and ordinal cat features\n",
        "nominals = ['Sex' , 'Embarked' ,\"Ticket_item\"]\n",
        "ordinals = ['Pclass' , \"Parch\" , \"SibSp\"]\n",
        "\n",
        "# menggunakan LabelEncoding untuk nominal fitur\n",
        "le = LabelEncoder()\n",
        "train_df['Sex'] = le.fit_transform(train_df['Sex'])\n",
        "train_df['Embarked'] = le.fit_transform(train_df['Embarked'])\n",
        "train_df['Ticket_item'] = le.fit_transform(train_df['Ticket_item'])\n",
        "\n",
        "# Convert Ticket_number to numerik\n",
        "train_df['Ticket_number'] = pd.to_numeric(train_df['Ticket_number'], errors='coerce')\n",
        "train_df.head()"
      ]
    },
    {
      "cell_type": "code",
      "execution_count": 12,
      "metadata": {
        "execution": {
          "iopub.execute_input": "2023-09-21T08:59:10.709683Z",
          "iopub.status.busy": "2023-09-21T08:59:10.708943Z",
          "iopub.status.idle": "2023-09-21T08:59:10.722Z",
          "shell.execute_reply": "2023-09-21T08:59:10.721205Z",
          "shell.execute_reply.started": "2023-09-21T08:59:10.709645Z"
        },
        "id": "Yqv8Bcrq7kXB",
        "trusted": true
      },
      "outputs": [
        {
          "name": "stdout",
          "output_type": "stream",
          "text": [
            "<class 'pandas.core.frame.DataFrame'>\n",
            "RangeIndex: 891 entries, 0 to 890\n",
            "Data columns (total 10 columns):\n",
            " #   Column         Non-Null Count  Dtype  \n",
            "---  ------         --------------  -----  \n",
            " 0   Survived       891 non-null    int64  \n",
            " 1   Pclass         891 non-null    int64  \n",
            " 2   Sex            891 non-null    int32  \n",
            " 3   Age            891 non-null    float64\n",
            " 4   SibSp          891 non-null    int64  \n",
            " 5   Parch          891 non-null    int64  \n",
            " 6   Fare           891 non-null    float64\n",
            " 7   Embarked       891 non-null    int32  \n",
            " 8   Ticket_number  887 non-null    float64\n",
            " 9   Ticket_item    891 non-null    int32  \n",
            "dtypes: float64(3), int32(3), int64(4)\n",
            "memory usage: 59.3 KB\n"
          ]
        }
      ],
      "source": [
        "train_df.info()"
      ]
    },
    {
      "cell_type": "markdown",
      "metadata": {
        "id": "h61bi_MF7kXC"
      },
      "source": [
        "# Outliers"
      ]
    },
    {
      "cell_type": "code",
      "execution_count": 13,
      "metadata": {
        "execution": {
          "iopub.execute_input": "2023-09-21T09:00:18.621741Z",
          "iopub.status.busy": "2023-09-21T09:00:18.621326Z",
          "iopub.status.idle": "2023-09-21T09:00:18.66233Z",
          "shell.execute_reply": "2023-09-21T09:00:18.661071Z",
          "shell.execute_reply.started": "2023-09-21T09:00:18.62171Z"
        },
        "id": "r6QZT-Cv7kXC",
        "trusted": true
      },
      "outputs": [
        {
          "data": {
            "text/html": [
              "<div>\n",
              "<style scoped>\n",
              "    .dataframe tbody tr th:only-of-type {\n",
              "        vertical-align: middle;\n",
              "    }\n",
              "\n",
              "    .dataframe tbody tr th {\n",
              "        vertical-align: top;\n",
              "    }\n",
              "\n",
              "    .dataframe thead th {\n",
              "        text-align: right;\n",
              "    }\n",
              "</style>\n",
              "<table border=\"1\" class=\"dataframe\">\n",
              "  <thead>\n",
              "    <tr style=\"text-align: right;\">\n",
              "      <th></th>\n",
              "      <th>Survived</th>\n",
              "      <th>Pclass</th>\n",
              "      <th>Sex</th>\n",
              "      <th>Age</th>\n",
              "      <th>SibSp</th>\n",
              "      <th>Parch</th>\n",
              "      <th>Fare</th>\n",
              "      <th>Embarked</th>\n",
              "      <th>Ticket_number</th>\n",
              "      <th>Ticket_item</th>\n",
              "    </tr>\n",
              "  </thead>\n",
              "  <tbody>\n",
              "    <tr>\n",
              "      <th>count</th>\n",
              "      <td>891.000000</td>\n",
              "      <td>891.000000</td>\n",
              "      <td>891.000000</td>\n",
              "      <td>891.000000</td>\n",
              "      <td>891.000000</td>\n",
              "      <td>891.000000</td>\n",
              "      <td>891.000000</td>\n",
              "      <td>891.000000</td>\n",
              "      <td>8.870000e+02</td>\n",
              "      <td>891.000000</td>\n",
              "    </tr>\n",
              "    <tr>\n",
              "      <th>mean</th>\n",
              "      <td>0.383838</td>\n",
              "      <td>2.308642</td>\n",
              "      <td>0.647587</td>\n",
              "      <td>29.699118</td>\n",
              "      <td>0.523008</td>\n",
              "      <td>0.381594</td>\n",
              "      <td>32.204208</td>\n",
              "      <td>1.536476</td>\n",
              "      <td>2.983284e+05</td>\n",
              "      <td>16.922559</td>\n",
              "    </tr>\n",
              "    <tr>\n",
              "      <th>std</th>\n",
              "      <td>0.486592</td>\n",
              "      <td>0.836071</td>\n",
              "      <td>0.477990</td>\n",
              "      <td>13.002015</td>\n",
              "      <td>1.102743</td>\n",
              "      <td>0.806057</td>\n",
              "      <td>49.693429</td>\n",
              "      <td>0.791503</td>\n",
              "      <td>6.576144e+05</td>\n",
              "      <td>6.064231</td>\n",
              "    </tr>\n",
              "    <tr>\n",
              "      <th>min</th>\n",
              "      <td>0.000000</td>\n",
              "      <td>1.000000</td>\n",
              "      <td>0.000000</td>\n",
              "      <td>0.420000</td>\n",
              "      <td>0.000000</td>\n",
              "      <td>0.000000</td>\n",
              "      <td>0.000000</td>\n",
              "      <td>0.000000</td>\n",
              "      <td>3.000000e+00</td>\n",
              "      <td>0.000000</td>\n",
              "    </tr>\n",
              "    <tr>\n",
              "      <th>25%</th>\n",
              "      <td>0.000000</td>\n",
              "      <td>2.000000</td>\n",
              "      <td>0.000000</td>\n",
              "      <td>22.000000</td>\n",
              "      <td>0.000000</td>\n",
              "      <td>0.000000</td>\n",
              "      <td>7.910400</td>\n",
              "      <td>1.000000</td>\n",
              "      <td>1.487900e+04</td>\n",
              "      <td>16.000000</td>\n",
              "    </tr>\n",
              "    <tr>\n",
              "      <th>50%</th>\n",
              "      <td>0.000000</td>\n",
              "      <td>3.000000</td>\n",
              "      <td>1.000000</td>\n",
              "      <td>29.699118</td>\n",
              "      <td>0.000000</td>\n",
              "      <td>0.000000</td>\n",
              "      <td>14.454200</td>\n",
              "      <td>2.000000</td>\n",
              "      <td>1.122770e+05</td>\n",
              "      <td>16.000000</td>\n",
              "    </tr>\n",
              "    <tr>\n",
              "      <th>75%</th>\n",
              "      <td>1.000000</td>\n",
              "      <td>3.000000</td>\n",
              "      <td>1.000000</td>\n",
              "      <td>35.000000</td>\n",
              "      <td>1.000000</td>\n",
              "      <td>0.000000</td>\n",
              "      <td>31.000000</td>\n",
              "      <td>2.000000</td>\n",
              "      <td>3.470820e+05</td>\n",
              "      <td>16.000000</td>\n",
              "    </tr>\n",
              "    <tr>\n",
              "      <th>max</th>\n",
              "      <td>1.000000</td>\n",
              "      <td>3.000000</td>\n",
              "      <td>1.000000</td>\n",
              "      <td>80.000000</td>\n",
              "      <td>8.000000</td>\n",
              "      <td>6.000000</td>\n",
              "      <td>512.329200</td>\n",
              "      <td>2.000000</td>\n",
              "      <td>3.101317e+06</td>\n",
              "      <td>43.000000</td>\n",
              "    </tr>\n",
              "  </tbody>\n",
              "</table>\n",
              "</div>"
            ],
            "text/plain": [
              "         Survived      Pclass         Sex         Age       SibSp       Parch  \\\n",
              "count  891.000000  891.000000  891.000000  891.000000  891.000000  891.000000   \n",
              "mean     0.383838    2.308642    0.647587   29.699118    0.523008    0.381594   \n",
              "std      0.486592    0.836071    0.477990   13.002015    1.102743    0.806057   \n",
              "min      0.000000    1.000000    0.000000    0.420000    0.000000    0.000000   \n",
              "25%      0.000000    2.000000    0.000000   22.000000    0.000000    0.000000   \n",
              "50%      0.000000    3.000000    1.000000   29.699118    0.000000    0.000000   \n",
              "75%      1.000000    3.000000    1.000000   35.000000    1.000000    0.000000   \n",
              "max      1.000000    3.000000    1.000000   80.000000    8.000000    6.000000   \n",
              "\n",
              "             Fare    Embarked  Ticket_number  Ticket_item  \n",
              "count  891.000000  891.000000   8.870000e+02   891.000000  \n",
              "mean    32.204208    1.536476   2.983284e+05    16.922559  \n",
              "std     49.693429    0.791503   6.576144e+05     6.064231  \n",
              "min      0.000000    0.000000   3.000000e+00     0.000000  \n",
              "25%      7.910400    1.000000   1.487900e+04    16.000000  \n",
              "50%     14.454200    2.000000   1.122770e+05    16.000000  \n",
              "75%     31.000000    2.000000   3.470820e+05    16.000000  \n",
              "max    512.329200    2.000000   3.101317e+06    43.000000  "
            ]
          },
          "execution_count": 13,
          "metadata": {},
          "output_type": "execute_result"
        }
      ],
      "source": [
        "train_df.describe()"
      ]
    },
    {
      "cell_type": "code",
      "execution_count": 14,
      "metadata": {
        "execution": {
          "iopub.execute_input": "2023-09-21T09:00:53.111408Z",
          "iopub.status.busy": "2023-09-21T09:00:53.110339Z",
          "iopub.status.idle": "2023-09-21T09:00:53.13526Z",
          "shell.execute_reply": "2023-09-21T09:00:53.134192Z",
          "shell.execute_reply.started": "2023-09-21T09:00:53.111371Z"
        },
        "id": "od8vmsX87kXE",
        "trusted": true
      },
      "outputs": [
        {
          "data": {
            "text/html": [
              "<div>\n",
              "<style scoped>\n",
              "    .dataframe tbody tr th:only-of-type {\n",
              "        vertical-align: middle;\n",
              "    }\n",
              "\n",
              "    .dataframe tbody tr th {\n",
              "        vertical-align: top;\n",
              "    }\n",
              "\n",
              "    .dataframe thead th {\n",
              "        text-align: right;\n",
              "    }\n",
              "</style>\n",
              "<table border=\"1\" class=\"dataframe\">\n",
              "  <thead>\n",
              "    <tr style=\"text-align: right;\">\n",
              "      <th></th>\n",
              "      <th>Survived</th>\n",
              "      <th>Pclass</th>\n",
              "      <th>Sex</th>\n",
              "      <th>Age</th>\n",
              "      <th>SibSp</th>\n",
              "      <th>Parch</th>\n",
              "      <th>Fare</th>\n",
              "      <th>Embarked</th>\n",
              "      <th>Ticket_number</th>\n",
              "      <th>Ticket_item</th>\n",
              "    </tr>\n",
              "  </thead>\n",
              "  <tbody>\n",
              "    <tr>\n",
              "      <th>0</th>\n",
              "      <td>False</td>\n",
              "      <td>False</td>\n",
              "      <td>False</td>\n",
              "      <td>False</td>\n",
              "      <td>False</td>\n",
              "      <td>False</td>\n",
              "      <td>False</td>\n",
              "      <td>False</td>\n",
              "      <td>False</td>\n",
              "      <td>False</td>\n",
              "    </tr>\n",
              "    <tr>\n",
              "      <th>1</th>\n",
              "      <td>False</td>\n",
              "      <td>False</td>\n",
              "      <td>False</td>\n",
              "      <td>False</td>\n",
              "      <td>False</td>\n",
              "      <td>False</td>\n",
              "      <td>False</td>\n",
              "      <td>False</td>\n",
              "      <td>False</td>\n",
              "      <td>False</td>\n",
              "    </tr>\n",
              "    <tr>\n",
              "      <th>2</th>\n",
              "      <td>False</td>\n",
              "      <td>False</td>\n",
              "      <td>False</td>\n",
              "      <td>False</td>\n",
              "      <td>False</td>\n",
              "      <td>False</td>\n",
              "      <td>False</td>\n",
              "      <td>False</td>\n",
              "      <td>True</td>\n",
              "      <td>True</td>\n",
              "    </tr>\n",
              "    <tr>\n",
              "      <th>3</th>\n",
              "      <td>False</td>\n",
              "      <td>False</td>\n",
              "      <td>False</td>\n",
              "      <td>False</td>\n",
              "      <td>False</td>\n",
              "      <td>False</td>\n",
              "      <td>False</td>\n",
              "      <td>False</td>\n",
              "      <td>False</td>\n",
              "      <td>False</td>\n",
              "    </tr>\n",
              "    <tr>\n",
              "      <th>4</th>\n",
              "      <td>False</td>\n",
              "      <td>False</td>\n",
              "      <td>False</td>\n",
              "      <td>False</td>\n",
              "      <td>False</td>\n",
              "      <td>False</td>\n",
              "      <td>False</td>\n",
              "      <td>False</td>\n",
              "      <td>False</td>\n",
              "      <td>False</td>\n",
              "    </tr>\n",
              "  </tbody>\n",
              "</table>\n",
              "</div>"
            ],
            "text/plain": [
              "   Survived  Pclass    Sex    Age  SibSp  Parch   Fare  Embarked  \\\n",
              "0     False   False  False  False  False  False  False     False   \n",
              "1     False   False  False  False  False  False  False     False   \n",
              "2     False   False  False  False  False  False  False     False   \n",
              "3     False   False  False  False  False  False  False     False   \n",
              "4     False   False  False  False  False  False  False     False   \n",
              "\n",
              "   Ticket_number  Ticket_item  \n",
              "0          False        False  \n",
              "1          False        False  \n",
              "2           True         True  \n",
              "3          False        False  \n",
              "4          False        False  "
            ]
          },
          "execution_count": 14,
          "metadata": {},
          "output_type": "execute_result"
        }
      ],
      "source": [
        "threshold = 3\n",
        "z_scores = np.abs((train_df - train_df.mean()) / train_df.std())\n",
        "outliers = z_scores > threshold\n",
        "outliers.head()"
      ]
    },
    {
      "cell_type": "code",
      "execution_count": 15,
      "metadata": {
        "execution": {
          "iopub.execute_input": "2023-09-21T09:01:24.634611Z",
          "iopub.status.busy": "2023-09-21T09:01:24.633575Z",
          "iopub.status.idle": "2023-09-21T09:01:24.676954Z",
          "shell.execute_reply": "2023-09-21T09:01:24.676027Z",
          "shell.execute_reply.started": "2023-09-21T09:01:24.634565Z"
        },
        "id": "Ku5zyKe87kXE",
        "trusted": true
      },
      "outputs": [
        {
          "data": {
            "text/html": [
              "<div>\n",
              "<style scoped>\n",
              "    .dataframe tbody tr th:only-of-type {\n",
              "        vertical-align: middle;\n",
              "    }\n",
              "\n",
              "    .dataframe tbody tr th {\n",
              "        vertical-align: top;\n",
              "    }\n",
              "\n",
              "    .dataframe thead th {\n",
              "        text-align: right;\n",
              "    }\n",
              "</style>\n",
              "<table border=\"1\" class=\"dataframe\">\n",
              "  <thead>\n",
              "    <tr style=\"text-align: right;\">\n",
              "      <th></th>\n",
              "      <th>Survived</th>\n",
              "      <th>Pclass</th>\n",
              "      <th>Sex</th>\n",
              "      <th>Age</th>\n",
              "      <th>SibSp</th>\n",
              "      <th>Parch</th>\n",
              "      <th>Fare</th>\n",
              "      <th>Embarked</th>\n",
              "      <th>Ticket_number</th>\n",
              "      <th>Ticket_item</th>\n",
              "    </tr>\n",
              "  </thead>\n",
              "  <tbody>\n",
              "    <tr>\n",
              "      <th>0</th>\n",
              "      <td>0</td>\n",
              "      <td>3</td>\n",
              "      <td>1</td>\n",
              "      <td>22.0</td>\n",
              "      <td>1.0</td>\n",
              "      <td>0.0</td>\n",
              "      <td>7.2500</td>\n",
              "      <td>2</td>\n",
              "      <td>21171.0</td>\n",
              "      <td>4.0</td>\n",
              "    </tr>\n",
              "    <tr>\n",
              "      <th>1</th>\n",
              "      <td>1</td>\n",
              "      <td>1</td>\n",
              "      <td>0</td>\n",
              "      <td>38.0</td>\n",
              "      <td>1.0</td>\n",
              "      <td>0.0</td>\n",
              "      <td>71.2833</td>\n",
              "      <td>0</td>\n",
              "      <td>17599.0</td>\n",
              "      <td>18.0</td>\n",
              "    </tr>\n",
              "    <tr>\n",
              "      <th>2</th>\n",
              "      <td>1</td>\n",
              "      <td>3</td>\n",
              "      <td>0</td>\n",
              "      <td>26.0</td>\n",
              "      <td>0.0</td>\n",
              "      <td>0.0</td>\n",
              "      <td>7.9250</td>\n",
              "      <td>2</td>\n",
              "      <td>NaN</td>\n",
              "      <td>NaN</td>\n",
              "    </tr>\n",
              "    <tr>\n",
              "      <th>3</th>\n",
              "      <td>1</td>\n",
              "      <td>1</td>\n",
              "      <td>0</td>\n",
              "      <td>35.0</td>\n",
              "      <td>1.0</td>\n",
              "      <td>0.0</td>\n",
              "      <td>53.1000</td>\n",
              "      <td>2</td>\n",
              "      <td>113803.0</td>\n",
              "      <td>16.0</td>\n",
              "    </tr>\n",
              "    <tr>\n",
              "      <th>4</th>\n",
              "      <td>0</td>\n",
              "      <td>3</td>\n",
              "      <td>1</td>\n",
              "      <td>35.0</td>\n",
              "      <td>0.0</td>\n",
              "      <td>0.0</td>\n",
              "      <td>8.0500</td>\n",
              "      <td>2</td>\n",
              "      <td>373450.0</td>\n",
              "      <td>16.0</td>\n",
              "    </tr>\n",
              "  </tbody>\n",
              "</table>\n",
              "</div>"
            ],
            "text/plain": [
              "   Survived  Pclass  Sex   Age  SibSp  Parch     Fare  Embarked  \\\n",
              "0         0       3    1  22.0    1.0    0.0   7.2500         2   \n",
              "1         1       1    0  38.0    1.0    0.0  71.2833         0   \n",
              "2         1       3    0  26.0    0.0    0.0   7.9250         2   \n",
              "3         1       1    0  35.0    1.0    0.0  53.1000         2   \n",
              "4         0       3    1  35.0    0.0    0.0   8.0500         2   \n",
              "\n",
              "   Ticket_number  Ticket_item  \n",
              "0        21171.0          4.0  \n",
              "1        17599.0         18.0  \n",
              "2            NaN          NaN  \n",
              "3       113803.0         16.0  \n",
              "4       373450.0         16.0  "
            ]
          },
          "execution_count": 15,
          "metadata": {},
          "output_type": "execute_result"
        }
      ],
      "source": [
        "train_df = train_df[(z_scores <= threshold)]\n",
        "train_df.head()"
      ]
    },
    {
      "cell_type": "code",
      "execution_count": 16,
      "metadata": {
        "execution": {
          "iopub.execute_input": "2023-09-21T09:01:42.592777Z",
          "iopub.status.busy": "2023-09-21T09:01:42.592415Z",
          "iopub.status.idle": "2023-09-21T09:01:42.603394Z",
          "shell.execute_reply": "2023-09-21T09:01:42.602141Z",
          "shell.execute_reply.started": "2023-09-21T09:01:42.59275Z"
        },
        "id": "Px5V71sW7kXF",
        "trusted": true
      },
      "outputs": [
        {
          "data": {
            "text/plain": [
              "Survived          0\n",
              "Pclass            0\n",
              "Sex               0\n",
              "Age               7\n",
              "SibSp            30\n",
              "Parch            15\n",
              "Fare             20\n",
              "Embarked          0\n",
              "Ticket_number    48\n",
              "Ticket_item      39\n",
              "dtype: int64"
            ]
          },
          "execution_count": 16,
          "metadata": {},
          "output_type": "execute_result"
        }
      ],
      "source": [
        "train_df.isnull().sum()"
      ]
    },
    {
      "cell_type": "code",
      "execution_count": 17,
      "metadata": {
        "execution": {
          "iopub.execute_input": "2023-09-21T09:02:16.772288Z",
          "iopub.status.busy": "2023-09-21T09:02:16.771869Z",
          "iopub.status.idle": "2023-09-21T09:02:16.791859Z",
          "shell.execute_reply": "2023-09-21T09:02:16.790725Z",
          "shell.execute_reply.started": "2023-09-21T09:02:16.772255Z"
        },
        "id": "fBeE45a-7kXG",
        "trusted": true
      },
      "outputs": [
        {
          "data": {
            "text/plain": [
              "Survived         0\n",
              "Pclass           0\n",
              "Sex              0\n",
              "Age              0\n",
              "SibSp            0\n",
              "Parch            0\n",
              "Fare             0\n",
              "Embarked         0\n",
              "Ticket_number    0\n",
              "Ticket_item      0\n",
              "dtype: int64"
            ]
          },
          "execution_count": 17,
          "metadata": {},
          "output_type": "execute_result"
        }
      ],
      "source": [
        "train_df = train_df.dropna()\n",
        "train_df.isnull().sum()"
      ]
    },
    {
      "cell_type": "markdown",
      "metadata": {
        "id": "lzK4vcN_7kXG"
      },
      "source": [
        "# Splitting Features and Target"
      ]
    },
    {
      "cell_type": "code",
      "execution_count": 18,
      "metadata": {
        "execution": {
          "iopub.execute_input": "2023-09-21T09:02:49.120643Z",
          "iopub.status.busy": "2023-09-21T09:02:49.12016Z",
          "iopub.status.idle": "2023-09-21T09:02:49.133413Z",
          "shell.execute_reply": "2023-09-21T09:02:49.132538Z",
          "shell.execute_reply.started": "2023-09-21T09:02:49.120611Z"
        },
        "id": "rhpvTwxR7kXG",
        "trusted": true
      },
      "outputs": [
        {
          "name": "stdout",
          "output_type": "stream",
          "text": [
            "X_train shape: (763, 9)\n",
            "y_train shape: (763,) \n",
            "\n"
          ]
        }
      ],
      "source": [
        "X_train = train_df.drop('Survived', axis=1)\n",
        "y_train = train_df['Survived']\n",
        "\n",
        "print(\"X_train shape:\", X_train.shape)\n",
        "print(\"y_train shape:\", y_train.shape, \"\\n\")"
      ]
    },
    {
      "cell_type": "markdown",
      "metadata": {
        "id": "EW5yjH3o7kXH"
      },
      "source": [
        "# Data transformation"
      ]
    },
    {
      "cell_type": "code",
      "execution_count": null,
      "metadata": {
        "execution": {
          "iopub.execute_input": "2023-09-21T09:03:40.05548Z",
          "iopub.status.busy": "2023-09-21T09:03:40.05507Z",
          "iopub.status.idle": "2023-09-21T09:03:40.071661Z",
          "shell.execute_reply": "2023-09-21T09:03:40.070683Z",
          "shell.execute_reply.started": "2023-09-21T09:03:40.055452Z"
        },
        "id": "SpcX__cG7kXH",
        "trusted": true
      },
      "outputs": [],
      "source": [
        "scaler = StandardScaler()\n",
        "X_train = pd.DataFrame(scaler.fit_transform(X_train) , columns = X_train.columns)"
      ]
    },
    {
      "cell_type": "code",
      "execution_count": 20,
      "metadata": {
        "execution": {
          "iopub.execute_input": "2023-09-21T09:03:49.425961Z",
          "iopub.status.busy": "2023-09-21T09:03:49.424976Z",
          "iopub.status.idle": "2023-09-21T09:03:49.442293Z",
          "shell.execute_reply": "2023-09-21T09:03:49.440928Z",
          "shell.execute_reply.started": "2023-09-21T09:03:49.425924Z"
        },
        "id": "CODX5ch27kXH",
        "trusted": true
      },
      "outputs": [
        {
          "data": {
            "text/html": [
              "<div>\n",
              "<style scoped>\n",
              "    .dataframe tbody tr th:only-of-type {\n",
              "        vertical-align: middle;\n",
              "    }\n",
              "\n",
              "    .dataframe tbody tr th {\n",
              "        vertical-align: top;\n",
              "    }\n",
              "\n",
              "    .dataframe thead th {\n",
              "        text-align: right;\n",
              "    }\n",
              "</style>\n",
              "<table border=\"1\" class=\"dataframe\">\n",
              "  <thead>\n",
              "    <tr style=\"text-align: right;\">\n",
              "      <th></th>\n",
              "      <th>Pclass</th>\n",
              "      <th>Sex</th>\n",
              "      <th>Age</th>\n",
              "      <th>SibSp</th>\n",
              "      <th>Parch</th>\n",
              "      <th>Fare</th>\n",
              "      <th>Embarked</th>\n",
              "      <th>Ticket_number</th>\n",
              "      <th>Ticket_item</th>\n",
              "    </tr>\n",
              "  </thead>\n",
              "  <tbody>\n",
              "    <tr>\n",
              "      <th>0</th>\n",
              "      <td>0.875585</td>\n",
              "      <td>0.733694</td>\n",
              "      <td>-0.640850</td>\n",
              "      <td>1.061578</td>\n",
              "      <td>-0.460194</td>\n",
              "      <td>-0.645852</td>\n",
              "      <td>0.612381</td>\n",
              "      <td>-0.888453</td>\n",
              "      <td>-3.148821</td>\n",
              "    </tr>\n",
              "    <tr>\n",
              "      <th>1</th>\n",
              "      <td>-1.523235</td>\n",
              "      <td>-1.362967</td>\n",
              "      <td>0.656100</td>\n",
              "      <td>1.061578</td>\n",
              "      <td>-0.460194</td>\n",
              "      <td>1.457767</td>\n",
              "      <td>-1.866382</td>\n",
              "      <td>-0.912241</td>\n",
              "      <td>0.590557</td>\n",
              "    </tr>\n",
              "    <tr>\n",
              "      <th>2</th>\n",
              "      <td>-1.523235</td>\n",
              "      <td>-1.362967</td>\n",
              "      <td>0.412922</td>\n",
              "      <td>1.061578</td>\n",
              "      <td>-0.460194</td>\n",
              "      <td>0.860410</td>\n",
              "      <td>0.612381</td>\n",
              "      <td>-0.271566</td>\n",
              "      <td>0.056360</td>\n",
              "    </tr>\n",
              "    <tr>\n",
              "      <th>3</th>\n",
              "      <td>0.875585</td>\n",
              "      <td>0.733694</td>\n",
              "      <td>0.412922</td>\n",
              "      <td>-0.568169</td>\n",
              "      <td>-0.460194</td>\n",
              "      <td>-0.619571</td>\n",
              "      <td>0.612381</td>\n",
              "      <td>1.457566</td>\n",
              "      <td>0.056360</td>\n",
              "    </tr>\n",
              "    <tr>\n",
              "      <th>4</th>\n",
              "      <td>0.875585</td>\n",
              "      <td>0.733694</td>\n",
              "      <td>-0.016764</td>\n",
              "      <td>-0.568169</td>\n",
              "      <td>-0.460194</td>\n",
              "      <td>-0.606157</td>\n",
              "      <td>-0.627000</td>\n",
              "      <td>1.174049</td>\n",
              "      <td>0.056360</td>\n",
              "    </tr>\n",
              "  </tbody>\n",
              "</table>\n",
              "</div>"
            ],
            "text/plain": [
              "     Pclass       Sex       Age     SibSp     Parch      Fare  Embarked  \\\n",
              "0  0.875585  0.733694 -0.640850  1.061578 -0.460194 -0.645852  0.612381   \n",
              "1 -1.523235 -1.362967  0.656100  1.061578 -0.460194  1.457767 -1.866382   \n",
              "2 -1.523235 -1.362967  0.412922  1.061578 -0.460194  0.860410  0.612381   \n",
              "3  0.875585  0.733694  0.412922 -0.568169 -0.460194 -0.619571  0.612381   \n",
              "4  0.875585  0.733694 -0.016764 -0.568169 -0.460194 -0.606157 -0.627000   \n",
              "\n",
              "   Ticket_number  Ticket_item  \n",
              "0      -0.888453    -3.148821  \n",
              "1      -0.912241     0.590557  \n",
              "2      -0.271566     0.056360  \n",
              "3       1.457566     0.056360  \n",
              "4       1.174049     0.056360  "
            ]
          },
          "execution_count": 20,
          "metadata": {},
          "output_type": "execute_result"
        }
      ],
      "source": [
        "X_train.head()"
      ]
    },
    {
      "cell_type": "markdown",
      "metadata": {
        "id": "Wtyh4Wtb7kXH"
      },
      "source": [
        "# Feature Selection Using Correlation"
      ]
    },
    {
      "cell_type": "code",
      "execution_count": 21,
      "metadata": {
        "execution": {
          "iopub.execute_input": "2023-09-21T09:04:17.592851Z",
          "iopub.status.busy": "2023-09-21T09:04:17.592007Z",
          "iopub.status.idle": "2023-09-21T09:04:18.032682Z",
          "shell.execute_reply": "2023-09-21T09:04:18.031337Z",
          "shell.execute_reply.started": "2023-09-21T09:04:17.592814Z"
        },
        "id": "SfDUcQjT7kXI",
        "trusted": true
      },
      "outputs": [
        {
          "data": {
            "image/png": "[encoded data removed]",
            "text/plain": [
              "<Figure size 1000x1000 with 2 Axes>"
            ]
          },
          "metadata": {},
          "output_type": "display_data"
        }
      ],
      "source": [
        "corrmat = train_df.corr(method='pearson')\n",
        "f, ax = plt.subplots(figsize=(10, 10))\n",
        "sns.heatmap(corrmat, annot=True, vmax=1, square=True);\n",
        "plt.title('Correlation Feature Heatmap');\n",
        "plt.show()"
      ]
    },
    {
      "cell_type": "markdown",
      "metadata": {
        "id": "jCgUGA3s7kXI"
      },
      "source": [
        "# Feature Selection Using Embedded Method"
      ]
    },
    {
      "cell_type": "code",
      "execution_count": null,
      "metadata": {
        "execution": {
          "iopub.execute_input": "2023-09-21T09:04:40.736568Z",
          "iopub.status.busy": "2023-09-21T09:04:40.736165Z",
          "iopub.status.idle": "2023-09-21T09:04:41.238406Z",
          "shell.execute_reply": "2023-09-21T09:04:41.237306Z",
          "shell.execute_reply.started": "2023-09-21T09:04:40.736538Z"
        },
        "id": "TBNHUr7b7kXI",
        "trusted": true
      },
      "outputs": [],
      "source": [
        "model = RandomForestClassifier(n_estimators=100, random_state=42)\n",
        "model.fit(X_train, y_train)\n",
        "\n",
        "feature_importances = model.feature_importances_\n",
        "\n",
        "importances_df = pd.DataFrame({'Feature': X_train.columns, 'Importance': feature_importances})\n",
        "importances_df = importances_df.sort_values(by='Importance', ascending=False)\n",
        "\n",
        "plt.figure(figsize=(10, 6) ,)\n",
        "plt.barh(importances_df['Feature'], importances_df['Importance'])\n",
        "plt.xlabel('Importance')\n",
        "plt.ylabel('Feature')\n",
        "plt.title('Feature Importance')\n",
        "plt.show()"
      ]
    },
    {
      "cell_type": "markdown",
      "metadata": {
        "id": "EMcSih0u7kXI"
      },
      "source": [
        "# Imbalanced Data Using Oversampling"
      ]
    },
    {
      "cell_type": "code",
      "execution_count": 23,
      "metadata": {
        "execution": {
          "iopub.execute_input": "2023-09-21T09:05:20.064994Z",
          "iopub.status.busy": "2023-09-21T09:05:20.064614Z",
          "iopub.status.idle": "2023-09-21T09:05:20.073638Z",
          "shell.execute_reply": "2023-09-21T09:05:20.072538Z",
          "shell.execute_reply.started": "2023-09-21T09:05:20.064964Z"
        },
        "id": "B6FmBXkf7kXI",
        "trusted": true
      },
      "outputs": [
        {
          "data": {
            "text/plain": [
              "Survived\n",
              "0    459\n",
              "1    304\n",
              "Name: count, dtype: int64"
            ]
          },
          "execution_count": 23,
          "metadata": {},
          "output_type": "execute_result"
        }
      ],
      "source": [
        "y_train.value_counts()"
      ]
    },
    {
      "cell_type": "code",
      "execution_count": 24,
      "metadata": {
        "execution": {
          "iopub.execute_input": "2023-09-21T09:05:32.652726Z",
          "iopub.status.busy": "2023-09-21T09:05:32.649708Z",
          "iopub.status.idle": "2023-09-21T09:05:32.836675Z",
          "shell.execute_reply": "2023-09-21T09:05:32.835024Z",
          "shell.execute_reply.started": "2023-09-21T09:05:32.652685Z"
        },
        "id": "iPxfzB3g7kXI",
        "trusted": true
      },
      "outputs": [
        {
          "data": {
            "image/png": "[encoded data removed]",
            "text/plain": [
              "<Figure size 1200x800 with 1 Axes>"
            ]
          },
          "metadata": {},
          "output_type": "display_data"
        }
      ],
      "source": [
        "f,ax=plt.subplots(1,1,figsize=(12,8))\n",
        "y_train.value_counts().plot.pie(explode=[0,0.01],autopct='%1.1f%%',shadow=False)\n",
        "plt.show()"
      ]
    },
    {
      "cell_type": "code",
      "execution_count": null,
      "metadata": {
        "execution": {
          "iopub.execute_input": "2023-09-21T09:05:42.268595Z",
          "iopub.status.busy": "2023-09-21T09:05:42.268203Z",
          "iopub.status.idle": "2023-09-21T09:05:42.285242Z",
          "shell.execute_reply": "2023-09-21T09:05:42.283943Z",
          "shell.execute_reply.started": "2023-09-21T09:05:42.268567Z"
        },
        "id": "S0pli3917kXJ",
        "trusted": true
      },
      "outputs": [],
      "source": [
        "oversampler = RandomOverSampler(random_state=42)\n",
        "X_train, y_train = oversampler.fit_resample(X_train, y_train)\n",
        "y_train.value_counts()"
      ]
    },
    {
      "cell_type": "code",
      "execution_count": 26,
      "metadata": {
        "execution": {
          "iopub.execute_input": "2023-09-21T09:05:49.569482Z",
          "iopub.status.busy": "2023-09-21T09:05:49.568732Z",
          "iopub.status.idle": "2023-09-21T09:05:49.716301Z",
          "shell.execute_reply": "2023-09-21T09:05:49.714798Z",
          "shell.execute_reply.started": "2023-09-21T09:05:49.569448Z"
        },
        "id": "OrfmTNy37kXJ",
        "trusted": true
      },
      "outputs": [
        {
          "data": {
            "image/png": "[encoded data removed]",
            "text/plain": [
              "<Figure size 1200x800 with 1 Axes>"
            ]
          },
          "metadata": {},
          "output_type": "display_data"
        }
      ],
      "source": [
        "f,ax=plt.subplots(1,1,figsize=(12,8))\n",
        "y_train.value_counts().plot.pie(explode=[0,0.01],autopct='%1.1f%%',shadow=False)\n",
        "plt.show()"
      ]
    },
    {
      "cell_type": "markdown",
      "metadata": {
        "id": "csBRm9KJ7kXJ"
      },
      "source": [
        "# Apply Preprocessing to test_df"
      ]
    },
    {
      "cell_type": "code",
      "execution_count": 27,
      "metadata": {
        "id": "AerZR4nIBsve"
      },
      "outputs": [],
      "source": [
        "def preprocessing(test_df):\n",
        "  test_df = test_df.drop(['PassengerId'] , axis = 1)\n",
        "\n",
        "  test_df = preprocess(test_df)\n",
        "  test_df = test_df.drop(['Name' ,'Ticket'] , axis = 1)\n",
        "\n",
        "  test_df = test_df.drop(['Cabin'] , axis = 1)\n",
        "\n",
        "  test_df[['Age', 'Fare']] = imp.fit_transform(test_df[['Age', 'Fare']])\n",
        "  test_df[['Age', 'Fare']] = pd.DataFrame(test_df[['Age', 'Fare']] , columns = ['Age' , 'Fare'])\n",
        "\n",
        "  test_df[['Embarked']] = imp.fit_transform(test_df[['Embarked']])\n",
        "  test_df[['Embarked']] = pd.DataFrame(test_df[['Embarked']] , columns = ['Embarked'])\n",
        "\n",
        "  test_df['Sex'] = le.fit_transform(test_df['Sex'])\n",
        "  test_df['Embarked'] = le.fit_transform(test_df['Embarked'])\n",
        "  test_df['Ticket_item'] = le.fit_transform(test_df['Ticket_item'])\n",
        "\n",
        "  test_df['Ticket_number'] = pd.to_numeric(test_df['Ticket_number'], errors='coerce')\n",
        "\n",
        "  z_scores = np.abs((test_df - test_df.mean()) / test_df.std())\n",
        "\n",
        "  test_df = test_df[(z_scores <= threshold)]\n",
        "\n",
        "  test_df = test_df.dropna()\n",
        "\n",
        "  return test_df"
      ]
    },
    {
      "cell_type": "code",
      "execution_count": null,
      "metadata": {
        "id": "1xgh1BbDJLax"
      },
      "outputs": [],
      "source": [
        "test_df = pd.read_csv('https://raw.github.com/muhfajarags/BCC-Preprocessing-Workshop/main/test.csv')\n",
        "submission = pd.read_csv('https://raw.github.com/muhfajarags/BCC-Preprocessing-Workshop/main/gender_submission.csv')\n",
        "test_df = pd.concat([test_df , submission] , axis = 1)\n",
        "test_df = preprocessing(test_df)"
      ]
    },
    {
      "cell_type": "markdown",
      "metadata": {
        "id": "wWubijyIJTg2"
      },
      "source": [
        "# Test and Validation set"
      ]
    },
    {
      "cell_type": "code",
      "execution_count": 29,
      "metadata": {
        "id": "8ixC7kb9JS-8"
      },
      "outputs": [
        {
          "name": "stdout",
          "output_type": "stream",
          "text": [
            "X_test shape: (180, 9)\n",
            "y_test shape: (180,) \n",
            "\n",
            "X_test validation: (181, 9)\n",
            "y_test validation: (181,)\n"
          ]
        }
      ],
      "source": [
        "test_df_X = test_df.drop('Survived' , axis =1)\n",
        "test_df_y = test_df['Survived']\n",
        "\n",
        "X_test ,X_val ,y_test ,y_val = train_test_split( test_df_X , test_df_y , test_size = 0.5 ,random_state =42)\n",
        "\n",
        "print(\"X_test shape:\", X_test.shape)\n",
        "print(\"y_test shape:\", y_test.shape,\"\\n\")\n",
        "\n",
        "print(\"X_test validation:\", X_val.shape)\n",
        "print(\"y_test validation:\", y_val.shape)"
      ]
    },
    {
      "cell_type": "markdown",
      "metadata": {
        "id": "_x_QdksnLDLF"
      },
      "source": [
        "# Apply Preprocessing After Split"
      ]
    },
    {
      "cell_type": "code",
      "execution_count": null,
      "metadata": {
        "id": "_YGI6BU-LL55"
      },
      "outputs": [],
      "source": [
        "X_val = pd.DataFrame(scaler.transform(X_val) , columns = X_val.columns)\n",
        "X_test = pd.DataFrame(scaler.transform(X_test) , columns = X_test.columns)"
      ]
    },
    {
      "cell_type": "markdown",
      "metadata": {
        "id": "sBhM5AHOOcOt"
      },
      "source": [
        "# Save to Pickle"
      ]
    },
    {
      "cell_type": "code",
      "execution_count": 31,
      "metadata": {
        "id": "dtnBpTGWOeOc"
      },
      "outputs": [],
      "source": [
        "import pickle\n",
        "\n",
        "# Menyimpan data training\n",
        "with open('X_train.pkl', 'wb') as f:\n",
        "    pickle.dump(X_train, f)\n",
        "with open('y_train.pkl', 'wb') as f:\n",
        "    pickle.dump(y_train, f)\n",
        "\n",
        "# Menyimpan data validasi\n",
        "with open('X_val.pkl', 'wb') as f:\n",
        "    pickle.dump(X_val, f)\n",
        "with open('y_val.pkl', 'wb') as f:\n",
        "    pickle.dump(y_val, f)\n",
        "\n",
        "# Menyimpan data testing\n",
        "with open('X_test.pkl', 'wb') as f:\n",
        "    pickle.dump(X_test, f)\n",
        "with open('y_test.pkl', 'wb') as f:\n",
        "    pickle.dump(y_test, f)"
      ]
    },
    {
      "cell_type": "markdown",
      "metadata": {
        "id": "_Uuo2j5HMSKj"
      },
      "source": [
        "# TIME TO MODELLING 🔥🔥🔥"
      ]
    }
  ],
  "metadata": {
    "colab": {
      "provenance": []
    },
    "kaggle": {
      "accelerator": "none",
      "dataSources": [
        {
          "databundleVersionId": 26502,
          "sourceId": 3136,
          "sourceType": "competition"
        }
      ],
      "dockerImageVersionId": 30558,
      "isGpuEnabled": false,
      "isInternetEnabled": true,
      "language": "python",
      "sourceType": "notebook"
    },
    "kernelspec": {
      "display_name": "Python 3",
      "language": "python",
      "name": "python3"
    },
    "language_info": {
      "codemirror_mode": {
        "name": "ipython",
        "version": 3
      },
      "file_extension": ".py",
      "mimetype": "text/x-python",
      "name": "python",
      "nbconvert_exporter": "python",
      "pygments_lexer": "ipython3",
      "version": "3.10.10"
    }
  },
  "nbformat": 4,
  "nbformat_minor": 0
}
